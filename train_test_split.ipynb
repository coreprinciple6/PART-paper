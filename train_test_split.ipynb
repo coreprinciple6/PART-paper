{
 "cells": [
  {
   "cell_type": "code",
   "execution_count": 1,
   "metadata": {},
   "outputs": [],
   "source": [
    "#split datasets in local_data by id\n",
    "import pandas as pd\n",
    "import numpy as np\n",
    "\n",
    "def train_test_split_by_author(df, test_size=0.1, random_state=42):\n",
    "    unique_authors = df.id.unique()\n",
    "    test_authors = len(unique_authors) * test_size\n",
    "    in_test = np.random.choice(unique_authors, int(test_authors), replace=False)\n",
    "\n",
    "    return df[~df.id.isin(in_test)], df[df.id.isin(in_test)]\n"
   ]
  },
  {
   "cell_type": "code",
   "execution_count": 2,
   "metadata": {},
   "outputs": [],
   "source": [
    "\n",
    "blog_data = pd.read_csv(\"data/nlp/blog_corpus/blog_as_csv_preprocessed.csv\")\n",
    "blog_train, blog_test = train_test_split_by_author(blog_data)\n",
    "blog_train.to_csv(\"local_data/blog_train.csv\", index=False)\n",
    "blog_test.to_csv(\"local_data/blog_test.csv\", index=False)"
   ]
  },
  {
   "cell_type": "code",
   "execution_count": 4,
   "metadata": {},
   "outputs": [],
   "source": [
    "book_data = pd.read_csv(\"local_data/book_as_csv_preprocessed.csv\")\n",
    "book_data['old_id'] = book_data.id\n",
    "book_data['id'] = book_data.id_2\n",
    "del book_data['id_2']\n",
    "book_train, book_test = train_test_split_by_author(book_data)\n",
    "book_train.to_csv(\"local_data/book_train.csv\", index=False)\n",
    "book_test.to_csv(\"local_data/book_test.csv\", index=False)"
   ]
  },
  {
   "cell_type": "code",
   "execution_count": 5,
   "metadata": {},
   "outputs": [],
   "source": [
    "mail_data = pd.read_csv(\"local_data/mail_as_csv_preprocessed.csv\")\n",
    "mail_train, mail_test = train_test_split_by_author(mail_data)\n",
    "mail_train.to_csv(\"local_data/mail_train.csv\", index=False)\n",
    "mail_test.to_csv(\"local_data/mail_test.csv\", index=False)"
   ]
  },
  {
   "cell_type": "code",
   "execution_count": 3,
   "metadata": {},
   "outputs": [
    {
     "name": "stdout",
     "output_type": "stream",
     "text": [
      "blog_train: 17388\n",
      "blog_test: 1932\n"
     ]
    },
    {
     "data": {
      "text/plain": [
       "{None}"
      ]
     },
     "execution_count": 3,
     "metadata": {},
     "output_type": "execute_result"
    }
   ],
   "source": [
    "datasets = {'blog_train': blog_train,\n",
    "            'blog_test': blog_test,\n",
    "            # 'mail_train': mail_train,\n",
    "            # 'mail_test': mail_test,\n",
    "            # 'book_train': book_train,\n",
    "            # 'book_test': book_test,\n",
    "            }\n",
    "\n",
    "{print(f'{key}: {len(value.id.unique())}')for key, value in datasets.items()}"
   ]
  },
  {
   "cell_type": "code",
   "execution_count": 4,
   "metadata": {},
   "outputs": [],
   "source": [
    "blog_train, blog_test = train_test_split_by_author(blog_data)\n",
    "blog_train.to_csv(\"local_data/blog_train.csv\", index=False)\n",
    "blog_test.to_csv(\"local_data/blog_test.csv\", index=False)"
   ]
  },
  {
   "cell_type": "code",
   "execution_count": null,
   "metadata": {},
   "outputs": [],
   "source": [
    "book_train, book_test = train_test_split_by_author(book_data)\n",
    "book_train.to_csv(\"local_data/book_train.csv\", index=False)\n",
    "book_test.to_csv(\"local_data/book_test.csv\", index=False)"
   ]
  },
  {
   "cell_type": "code",
   "execution_count": null,
   "metadata": {},
   "outputs": [],
   "source": [
    "mail_train, mail_test = train_test_split_by_author(mail_data)\n",
    "mail_train.to_csv(\"local_data/mail_train.csv\", index=False)\n",
    "mail_test.to_csv(\"local_data/mail_test.csv\", index=False)"
   ]
  }
 ],
 "metadata": {
  "interpreter": {
   "hash": "916dbcbb3f70747c44a77c7bcd40155683ae19c65e1c03b4aa3499c5328201f1"
  },
  "kernelspec": {
   "display_name": "Python 3.8.5 64-bit",
   "language": "python",
   "name": "python3"
  },
  "language_info": {
   "codemirror_mode": {
    "name": "ipython",
    "version": 3
   },
   "file_extension": ".py",
   "mimetype": "text/x-python",
   "name": "python",
   "nbconvert_exporter": "python",
   "pygments_lexer": "ipython3",
   "version": "3.8.18"
  },
  "orig_nbformat": 4
 },
 "nbformat": 4,
 "nbformat_minor": 2
}
